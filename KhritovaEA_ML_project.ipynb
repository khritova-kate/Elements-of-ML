{
 "cells": [
  {
   "cell_type": "markdown",
   "metadata": {
    "colab_type": "text",
    "id": "FhJ90kIgU0tv"
   },
   "source": [
    "# Multilingual Embedding-based Machine Translation"
   ]
  },
  {
   "cell_type": "markdown",
   "metadata": {},
   "source": [
    "Работа выполнена в рамках курса естественно-научного содержания (ЕНС) _**\"Элементы машинного обучения\"**_  \n",
    "Преподаватель: Шокуров Антон Вячеславович\n",
    "\n",
    "Автор: Хритова Екатерина Андреевна  \n",
    "Группа: **510**"
   ]
  },
  {
   "cell_type": "markdown",
   "metadata": {},
   "source": [
    "**Содержание**\n",
    "> [Общие сведения](#section-1)   \n",
    ">> [Данные](#subsection-11)  \n",
    ">> [Мера качества](#subsection-12)  \n",
    ">> [Embeding](#subsection-13)  \n",
    "\n",
    "> [Mодель №0. Идеальный перевод](#section-2)   \n",
    "> [Mодель №1](#section-3)  \n",
    "> [Модель №2](#section-4)   \n",
    "> [Модель №3](#section-5)   \n",
    "\n",
    "> [Результаты](#section-6) \n",
    "\n",
    "> [Задача классификации сообщений](#section-7)  \n",
    ">>[Данные](#subsection-71)  \n",
    ">>[Модель классификации](#subsection-72)  \n",
    ">>[Переводчик](#subsection-73)  \n",
    ">>[Перевод + классификация](#subsection-74)  "
   ]
  },
  {
   "cell_type": "markdown",
   "metadata": {},
   "source": [
    "Этот блокнот основан на статьях:  \n",
    "[1] Samuel L. Smith, David H. P. Turban, Steven Hamblin & Nils Y. Hammerla, [Offline bilingual word vectors, orthogonal transformations and\n",
    "the inverted softmax](https://openreview.net/pdf?id=r1Aab85gg)   \n",
    "[2] A. Conneau*, G. Lample*, L. Denoyer, MA. Ranzato, H. Jégou, [Word Translation Without Parallel Data](https://arxiv.org/pdf/1710.04087.pdf)  \n",
    "[3] Armand Joulin Piotr Bojanowski Tomas Mikolov, [Loss in Translation: Learning Bilingual Word Mapping with a Retrieval Criterion](https://arxiv.org/pdf/1804.07745.pdf)"
   ]
  },
  {
   "cell_type": "markdown",
   "metadata": {},
   "source": [
    "Рассмотрим задачу машинного перевода. Пусть задано представление слов (как векторов $x \\in \\mathbb{R}^d$). Для решения задачи будем выравнивать векторы из двух языков в едином векторном пространстве с помощью некоторого отображения $W$. Ниже представлена схема выравнимания для векторного представления английских слов $X$ и испанских слов $Y$.\n",
    "\n",
    "![embedding_mapping.png](https://github.com/yandexdataschool/nlp_course/raw/master/resources/embedding_mapping.png)\n",
    "\n",
    "Рассмотрим следующие модели:\n",
    "1. Использующая линейное отображение между непрерывными представлениями слов.\n",
    "2. Использующая линейное ортогональное отображение между непрерывными представлениями слов.\n",
    "3. Использующая линейное ортогональное отображение между непрерывными представлениями слов, при построении которого используется корректирующая метрика.\n"
   ]
  },
  {
   "cell_type": "markdown",
   "metadata": {},
   "source": [
    "<a name=\"section-1\"></a> \n",
    "# Общие сведения <a name=\"subsection-11\"></a> "
   ]
  },
  {
   "cell_type": "markdown",
   "metadata": {},
   "source": [
    "Для исследования выберем два родственных славянских языка: **украинский** и **русский**. "
   ]
  },
  {
   "cell_type": "markdown",
   "metadata": {},
   "source": [
    "<a name=\"subsection-13\"></a> \n",
    "## Embeding"
   ]
  },
  {
   "cell_type": "markdown",
   "metadata": {},
   "source": [
    "Для embeding-а возьмем уже готовые представления:\n",
    "* [cc.uk.300.vec.zip](https://yadi.sk/d/9CAeNsJiInoyUA)\n",
    "* [cc.ru.300.vec.zip](https://yadi.sk/d/3yG0-M4M8fypeQ)"
   ]
  },
  {
   "cell_type": "markdown",
   "metadata": {},
   "source": [
    "Посмотрим на слова, наиболее близкие к слову _\"август\"_ и _\"серпень\"_ (перевод на украинский язык)"
   ]
  },
  {
   "cell_type": "code",
   "execution_count": 1,
   "metadata": {},
   "outputs": [],
   "source": [
    "import pandas as pd\n",
    "from gensim.models import KeyedVectors"
   ]
  },
  {
   "cell_type": "code",
   "execution_count": 2,
   "metadata": {},
   "outputs": [],
   "source": [
    "# EMBEDING\n",
    "uk_emb = KeyedVectors.load_word2vec_format(\"cc.uk.300.vec\")\n",
    "ru_emb = KeyedVectors.load_word2vec_format(\"cc.ru.300.vec\")"
   ]
  },
  {
   "cell_type": "code",
   "execution_count": 4,
   "metadata": {},
   "outputs": [
    {
     "name": "stdout",
     "output_type": "stream",
     "text": [
      "Наиболее близкие к слову \"август\" для ru_emb:\n",
      "август     1.0\n",
      "июль       0.938\n",
      "сентябрь   0.924\n",
      "июнь       0.922\n",
      "октябрь    0.91\n",
      "ноябрь     0.893\n",
      "апрель     0.873\n",
      "декабрь    0.865\n",
      "март       0.855\n",
      "февраль    0.84\n",
      "\n",
      "Наиболее близкие к слову \"серпень\" для uk_emb:\n",
      "серпень    1.0\n",
      "липень     0.91\n",
      "вересень   0.902\n",
      "червень    0.899\n",
      "жовтень    0.881\n",
      "листопад   0.879\n",
      "квітень    0.859\n",
      "грудень    0.859\n",
      "травень    0.841\n",
      "лютий      0.826\n",
      "\n",
      "Наиболее близкие к слову \"серпень\" для ru_emb:\n",
      "Недопустимость 0.244\n",
      "конструктивность 0.233\n",
      "офор       0.233\n",
      "deteydlya  0.23\n",
      "пресечении 0.226\n",
      "одностороннего 0.226\n",
      "подход     0.223\n",
      "иболее     0.22\n",
      "2015Александр 0.219\n",
      "конструктивен 0.218\n"
     ]
    }
   ],
   "source": [
    "ruemb_to_ru = ru_emb.most_similar([ru_emb[\"август\"]])\n",
    "#ukemb_to_ro = uk_emb.most_similar([ru_emb[\"август\"]])\n",
    "ukemb_to_uk = uk_emb.most_similar([uk_emb[\"серпень\"]])\n",
    "ruemb_to_uk = ru_emb.most_similar([uk_emb[\"серпень\"]])\n",
    "\n",
    "print('Наиболее близкие к слову \"август\" для ru_emb:')\n",
    "for k in range(10):\n",
    "    print(\"{:10} {}\".format(ruemb_to_ru[k][0], round(ruemb_to_ru[k][1], 3)))\n",
    "    \n",
    "print('\\nНаиболее близкие к слову \"серпень\" для uk_emb:')\n",
    "for k in range(10):\n",
    "    print(\"{:10} {}\".format(ukemb_to_uk[k][0], round(ukemb_to_uk[k][1], 3)))\n",
    "\n",
    "print('\\nНаиболее близкие к слову \"серпень\" для ru_emb:')\n",
    "for k in range(10):\n",
    "    print(\"{:10} {}\".format(ruemb_to_uk[k][0], round(ruemb_to_uk[k][1], 3)))"
   ]
  },
  {
   "cell_type": "markdown",
   "metadata": {},
   "source": [
    "## Данные"
   ]
  },
  {
   "cell_type": "markdown",
   "metadata": {
    "colab_type": "text",
    "id": "lNIKfTT_U0ty"
   },
   "source": [
    "В качестве исходного датасета используется файл, содержащий украинские и русские слова, разделенные табуляцией. Все буквы в словах записаны в нижнем регистре, слова не содаржат знаков препинания, цифр и пр.  \n",
    "Пример нескольких таких пар:\n",
    "\n",
    "|Ukrainian  | Russian   |\n",
    "|-----------|-----------|\n",
    "|автомобіль | автомобиль|\n",
    "|автомобіль | вагон     |\n",
    "|агов       | эй        |\n",
    "|аґрус      |крыжовник  |\n",
    "|адже       |ведь\n",
    "|...        | ...       |"
   ]
  },
  {
   "cell_type": "markdown",
   "metadata": {
    "colab_type": "text",
    "id": "AxuEj76QU0ut"
   },
   "source": [
    "Загрузка данных"
   ]
  },
  {
   "cell_type": "code",
   "execution_count": 5,
   "metadata": {
    "colab": {},
    "colab_type": "code",
    "executionInfo": {
     "elapsed": 2113,
     "status": "ok",
     "timestamp": 1600588975618,
     "user": {
      "displayName": "Александра Чубчева",
      "photoUrl": "",
      "userId": "00055050786487740199"
     },
     "user_tz": -180
    },
    "id": "ifWhN0kdU0t7"
   },
   "outputs": [],
   "source": [
    "import numpy as np"
   ]
  },
  {
   "cell_type": "code",
   "execution_count": 6,
   "metadata": {
    "colab": {},
    "colab_type": "code",
    "executionInfo": {
     "elapsed": 706,
     "status": "ok",
     "timestamp": 1600589414975,
     "user": {
      "displayName": "Александра Чубчева",
      "photoUrl": "",
      "userId": "00055050786487740199"
     },
     "user_tz": -180
    },
    "id": "JPpwaHdPU0uu"
   },
   "outputs": [],
   "source": [
    "def load_word_pairs(filename):\n",
    "    uk_ru_pairs = []\n",
    "    uk_vectors = []\n",
    "    ru_vectors = []\n",
    "    with open(filename, \"r\") as inpf:\n",
    "        for line in inpf:\n",
    "            uk, ru = line.rstrip().split(\"\\t\")\n",
    "            if uk not in uk_emb or ru not in ru_emb:\n",
    "                continue\n",
    "            uk_ru_pairs.append((uk, ru))\n",
    "            uk_vectors.append(uk_emb[uk])\n",
    "            ru_vectors.append(ru_emb[ru])\n",
    "    return uk_ru_pairs, np.array(uk_vectors), np.array(ru_vectors)"
   ]
  },
  {
   "cell_type": "code",
   "execution_count": 7,
   "metadata": {
    "colab": {},
    "colab_type": "code",
    "executionInfo": {
     "elapsed": 1192,
     "status": "ok",
     "timestamp": 1600589445195,
     "user": {
      "displayName": "Александра Чубчева",
      "photoUrl": "",
      "userId": "00055050786487740199"
     },
     "user_tz": -180
    },
    "id": "TNKzMd7jU0uz"
   },
   "outputs": [],
   "source": [
    "uk_ru_train, X_train, Y_train = load_word_pairs(\"ukr_rus_train_fixed.txt\")\n",
    "uk_ru_test, X_test, Y_test = load_word_pairs(\"ukr_rus_test_fixed.txt\")"
   ]
  },
  {
   "cell_type": "markdown",
   "metadata": {},
   "source": [
    "<a name=\"subsection-12\"></a>  \n",
    "## Мера качества"
   ]
  },
  {
   "cell_type": "markdown",
   "metadata": {},
   "source": [
    "В качестве меры качества будем ипользовать долю \"близко угаданных\" слов с точностью top-1, top-5 и top-10:\n",
    "\n",
    "Для каждого преобразованного украинского представления ищется его $N$ ближайших соседей в пространстве представления русских слов (т.е. слово \"переводится\" с украинского на русский и для полученного \"перевода\" ищется $N$ наиболее близких по смыслу русских слов). Далее находится частота \"близко угаданных\" слов, т.е. тех, у которых хотя бы одна точка в найденной окрестности совпадает с истинным переводом.\n",
    "\n",
    "Аргументы функции:\n",
    "* Массив _pairs_ содержит пары слов из словаря (т.е. слово и его точный перевод)\n",
    "* Массив _mapped_vectors_ - это массив построенных приближений/переводов дли всех украинских слов из массива _pairs_\n",
    "* topn - точность (количество элементов в окрестности)"
   ]
  },
  {
   "cell_type": "code",
   "execution_count": 8,
   "metadata": {},
   "outputs": [],
   "source": [
    "def precision(pairs, mapped_vectors, topn=1):\n",
    "    assert len(pairs) == len(mapped_vectors)\n",
    "    num_matches = 0.\n",
    "    for i, (_, ru) in enumerate(pairs):\n",
    "        neighbours = ru_emb.most_similar(positive=[mapped_vectors[i]], topn=topn)\n",
    "        for neigh, _ in neighbours:\n",
    "                if neigh == ru:\n",
    "                    num_matches += 1.\n",
    "    precision_val = num_matches / len(pairs)\n",
    "    print(precision_val)\n",
    "    return precision_val"
   ]
  },
  {
   "cell_type": "markdown",
   "metadata": {},
   "source": [
    "<a name=\"section-2\"></a>\n",
    "# Модель №0 (Идеальный перевод)"
   ]
  },
  {
   "cell_type": "code",
   "execution_count": 11,
   "metadata": {},
   "outputs": [],
   "source": [
    "def ideal_translation(pairs, X):\n",
    "    assert len(pairs) == len(X)\n",
    "    true_trans = []\n",
    "    for (_, ru) in pairs:\n",
    "        true_trans.append(ru_emb[ru])\n",
    "    return np.array(true_trans)"
   ]
  },
  {
   "cell_type": "markdown",
   "metadata": {},
   "source": [
    "При идеальном переводе, какую бы окрестность мы не взяли, она всегда будет содержать истинный ответ. Поэтому _precision_ для истинного перевода всегда равен 1.0"
   ]
  },
  {
   "cell_type": "code",
   "execution_count": 18,
   "metadata": {},
   "outputs": [
    {
     "name": "stdout",
     "output_type": "stream",
     "text": [
      "Ideal translation for train set\n",
      "1.0\n",
      "1.0\n",
      "1.0\n",
      "\n",
      "Ideal translation for test set\n",
      "1.0\n",
      "1.0\n",
      "1.0\n"
     ]
    }
   ],
   "source": [
    "print(\"Ideal translation for train set\")\n",
    "assert precision(uk_ru_train, ideal_translation(uk_ru_train,X_train), topn=1) == 1.0\n",
    "assert precision(uk_ru_train, ideal_translation(uk_ru_train,X_train), topn=5) == 1.0\n",
    "assert precision(uk_ru_train, ideal_translation(uk_ru_train,X_train), topn=10) == 1.0\n",
    "\n",
    "print(\"\\nIdeal translation for test set\")\n",
    "assert precision(uk_ru_test, ideal_translation(uk_ru_test,X_test), topn=1) == 1.0\n",
    "assert precision(uk_ru_test, ideal_translation(uk_ru_test,X_test), topn=5) == 1.0\n",
    "assert precision(uk_ru_test, ideal_translation(uk_ru_test,X_test), topn=10) == 1.0"
   ]
  },
  {
   "cell_type": "markdown",
   "metadata": {
    "colab_type": "text",
    "id": "ASnu6Mr4U0t5"
   },
   "source": [
    "<a name=\"section-3\"></a>\n",
    "# Модель №1"
   ]
  },
  {
   "cell_type": "markdown",
   "metadata": {},
   "source": [
    "Пусть $x_i \\in \\mathbb{R}^d$ — представление слова $i$ на исходном языке, а $y_i \\in \\mathbb{R}^d$ — представление его перевода. Наша цель — узнать такое линейное преобразование $W$, которое минимизирует евклидово расстояние между $Wx_i$ и $y_i$ для некоторого подмножества представлений слов. Таким образом, мы можем сформулировать так называемую проблему Прокруста:\n",
    "\n",
    "$$W^*= \\arg\\min_W \\sum_{i=1}^n||Wx_i - y_i||_2$$"
   ]
  },
  {
   "cell_type": "markdown",
   "metadata": {
    "colab_type": "text",
    "id": "U3H8MeBMU0vA"
   },
   "source": [
    "Заметим, что $W^*= \\arg\\min_W \\sum_{i=1}^n||Wx_i - y_i||_2$ выглядит как простая множественная линейная регрессия (без перехвата). Итак, давайте искать ее именно в таком виде."
   ]
  },
  {
   "cell_type": "code",
   "execution_count": 198,
   "metadata": {
    "colab": {
     "base_uri": "https://localhost:8080/",
     "height": 35
    },
    "colab_type": "code",
    "executionInfo": {
     "elapsed": 754,
     "status": "ok",
     "timestamp": 1600591784764,
     "user": {
      "displayName": "Александра Чубчева",
      "photoUrl": "",
      "userId": "00055050786487740199"
     },
     "user_tz": -180
    },
    "id": "e_DW25EbU0vB",
    "outputId": "cceb7ef2-f3fa-4543-a263-e65c2ae2c518"
   },
   "outputs": [
    {
     "data": {
      "text/plain": [
       "LinearRegression(copy_X=True, fit_intercept=False, n_jobs=None, normalize=False)"
      ]
     },
     "execution_count": 198,
     "metadata": {},
     "output_type": "execute_result"
    }
   ],
   "source": [
    "from sklearn.linear_model import LinearRegression\n",
    "\n",
    "mapping = LinearRegression(fit_intercept=False)\n",
    "mapping.fit(X_train, Y_train)\n",
    "\n",
    "#Y_pred = mapping.predict(X_test)"
   ]
  },
  {
   "cell_type": "markdown",
   "metadata": {
    "colab_type": "text",
    "id": "vZ1e2TQVU0vG"
   },
   "source": [
    "Посмотрим на соседей вектора слова _\"сiчень\"_ после линейного преобразования."
   ]
  },
  {
   "cell_type": "code",
   "execution_count": 9,
   "metadata": {
    "colab": {
     "base_uri": "https://localhost:8080/",
     "height": 258
    },
    "colab_type": "code",
    "executionInfo": {
     "elapsed": 735,
     "status": "ok",
     "timestamp": 1600591787386,
     "user": {
      "displayName": "Александра Чубчева",
      "photoUrl": "",
      "userId": "00055050786487740199"
     },
     "user_tz": -180
    },
    "id": "bSAeOnW-U0vH",
    "outputId": "0da7fa8c-3919-4c6a-9ed2-02547a0560ea"
   },
   "outputs": [
    {
     "name": "stdout",
     "output_type": "stream",
     "text": [
      "Наиболее близкие к слову \"серпень\" для ru_emb:\n",
      "апрель     0.854\n",
      "июнь       0.841\n",
      "март       0.84\n",
      "сентябрь   0.836\n",
      "февраль    0.833\n",
      "октябрь    0.831\n",
      "ноябрь     0.828\n",
      "июль       0.824\n",
      "август     0.812\n",
      "декабрь    0.804\n"
     ]
    }
   ],
   "source": [
    "august = mapping.predict(uk_emb[\"серпень\"].reshape(1, -1))\n",
    "ruemb_to_uk = ru_emb.most_similar(august)\n",
    "\n",
    "print('Наиболее близкие к слову \"серпень\" для ru_emb:')\n",
    "for k in range(10):\n",
    "    print(\"{:10} {}\".format(ruemb_to_uk[k][0], round(ruemb_to_uk[k][1], 3)))"
   ]
  },
  {
   "cell_type": "markdown",
   "metadata": {
    "colab_type": "text",
    "id": "z8BhDOwpU0vL"
   },
   "source": [
    "Таким образом, окрестность этого вложения состоит из разных месяцев, но правильный вариант находится на девятом месте.\n",
    "\n",
    "Т.е., если мы вычислим меру качества модели для выборки, состоящей только из слова _август_ (и его перевода), то оценка с точность top-5 даст 0.0, а оценка с точностью top-9 и выше даст 1.0"
   ]
  },
  {
   "cell_type": "code",
   "execution_count": 10,
   "metadata": {},
   "outputs": [
    {
     "name": "stdout",
     "output_type": "stream",
     "text": [
      "0.0\n",
      "1.0\n",
      "1.0\n"
     ]
    }
   ],
   "source": [
    "assert precision([(\"серпень\", \"август\")], august, topn=5) == 0.0\n",
    "assert precision([(\"серпень\", \"август\")], august, topn=9) == 1.0\n",
    "assert precision([(\"серпень\", \"август\")], august, topn=10) == 1.0"
   ]
  },
  {
   "cell_type": "markdown",
   "metadata": {},
   "source": [
    "Вычислим теперь меру качества построенной модели для тестовой выборки."
   ]
  },
  {
   "cell_type": "code",
   "execution_count": 11,
   "metadata": {
    "colab": {
     "base_uri": "https://localhost:8080/",
     "height": 148
    },
    "colab_type": "code",
    "executionInfo": {
     "elapsed": 52183,
     "status": "ok",
     "timestamp": 1600591922177,
     "user": {
      "displayName": "Александра Чубчева",
      "photoUrl": "",
      "userId": "00055050786487740199"
     },
     "user_tz": -180
    },
    "id": "hKp5xM_XU0vd",
    "outputId": "05752af8-1ebb-43ea-f063-589b1ac41fc2"
   },
   "outputs": [
    {
     "name": "stdout",
     "output_type": "stream",
     "text": [
      "0.6424870466321243\n",
      "0.8082901554404145\n",
      "0.8497409326424871\n"
     ]
    }
   ],
   "source": [
    "precision_top1 = precision(uk_ru_test, mapping.predict(X_test), 1)\n",
    "precision_top5 = precision(uk_ru_test, mapping.predict(X_test), 5)\n",
    "precision_top10 = precision(uk_ru_test, mapping.predict(X_test), 10)"
   ]
  },
  {
   "cell_type": "markdown",
   "metadata": {
    "colab_type": "text",
    "id": "97Qi9Z0-U0vh"
   },
   "source": [
    "<a name=\"section-4\"></a>\n",
    "# Модель №2"
   ]
  },
  {
   "cell_type": "markdown",
   "metadata": {
    "colab_type": "text",
    "id": "H5yl5f5MU0vi"
   },
   "source": [
    "Можно показать (см. оригинальную статью), что самосогласованное (каждая точка на гладкой кривой или поверхности является средним значением всех точек, которые проецируются на нее ортогонально) линейное отображение между семантическими пространствами должно быть ортогональным.\n",
    "Тогда можно искать отображение $W$ как ортогональное:\n",
    "\n",
    "$$W^*= \\arg\\min_W ||WX - Y||_2 ,\\\\ W^TW = I, \\\\I \\text{- identity matrix}$$\n",
    "\n",
    "Оптимальное ортогональное преобразование можно найти, используя разложение по сингулярным значениям. Оказывается, оптимальное преобразование $W^*$ можно выразить через компоненты SVD:\n",
    "\n",
    "$$X^TY=U\\Sigma V^T\\text{, сингулярное разложение}$$\n",
    "$$W^*=UV^T$$"
   ]
  },
  {
   "cell_type": "code",
   "execution_count": 181,
   "metadata": {
    "colab": {},
    "colab_type": "code",
    "executionInfo": {
     "elapsed": 704,
     "status": "ok",
     "timestamp": 1600592050691,
     "user": {
      "displayName": "Александра Чубчева",
      "photoUrl": "",
      "userId": "00055050786487740199"
     },
     "user_tz": -180
    },
    "id": "ODLDY55IU0vj"
   },
   "outputs": [],
   "source": [
    "#singular value decompostion\n",
    "\n",
    "def learn_transform(X_train, Y_train):\n",
    "    U, S, V = np.linalg.svd(np.matmul(X_train.T, Y_train))\n",
    "    return np.matmul(U,V)"
   ]
  },
  {
   "cell_type": "code",
   "execution_count": 182,
   "metadata": {
    "colab": {},
    "colab_type": "code",
    "executionInfo": {
     "elapsed": 495,
     "status": "ok",
     "timestamp": 1600592051808,
     "user": {
      "displayName": "Александра Чубчева",
      "photoUrl": "",
      "userId": "00055050786487740199"
     },
     "user_tz": -180
    },
    "id": "HijUH5s5U0vo"
   },
   "outputs": [],
   "source": [
    "W2 = learn_transform(X_train, Y_train)"
   ]
  },
  {
   "cell_type": "code",
   "execution_count": 183,
   "metadata": {
    "colab": {
     "base_uri": "https://localhost:8080/",
     "height": 111
    },
    "colab_type": "code",
    "executionInfo": {
     "elapsed": 52303,
     "status": "ok",
     "timestamp": 1600592106743,
     "user": {
      "displayName": "Александра Чубчева",
      "photoUrl": "",
      "userId": "00055050786487740199"
     },
     "user_tz": -180
    },
    "id": "27vsKNc2U0vv",
    "outputId": "bdd9559f-7581-4abe-9f6c-f8dea26c7b72"
   },
   "outputs": [
    {
     "name": "stdout",
     "output_type": "stream",
     "text": [
      "0.655440414507772\n",
      "0.8238341968911918\n",
      "0.8523316062176166\n"
     ]
    }
   ],
   "source": [
    "prescision_top1 = precision(uk_ru_test, np.matmul(X_test, W2), 1)\n",
    "prescision_top5 = precision(uk_ru_test, np.matmul(X_test, W2), 5)\n",
    "prescision_top10 = precision(uk_ru_test, np.matmul(X_test, W2), 10)"
   ]
  },
  {
   "cell_type": "markdown",
   "metadata": {},
   "source": [
    "<a name=\"section-5\"></a>\n",
    "# Модель №3"
   ]
  },
  {
   "cell_type": "markdown",
   "metadata": {},
   "source": [
    "Можно показать, что построенные модели страдают от так называемой \"hubness problem\": некоторые векторы слов имеют тенденцию быть ближайшими соседями аномально большого количества других слов. Одним из решений этой проблеммы является использование при выводе корректирующей метрики. В [[3]](https://arxiv.org/pdf/1804.07745.pdf) в качестве такой метрики выбирается CSLS-критерий:\n",
    "$$CSLS(x,y) = -2 cos(x,y) + \\frac{1}{k}\\sum_{y' \\in \\mathcal{N}_Y(x)} cos(x, y') + \\frac{1}{k}\\sum_{x' \\in \\mathcal{N}_X(y)} cos(x', y) $$\n",
    "\n",
    "Здесь $\\mathcal{N}_Y(x)$ - окрестность точки $x$ в пространстве $Y$ (k ближайших соседей) и $cos(x,y)$ - cosine similarity (косинусное сходство)"
   ]
  },
  {
   "cell_type": "markdown",
   "metadata": {},
   "source": [
    "В терминах нашей задачи:\n",
    "$$cos(Wx_i, y_j) = x_i^TW^Ty_j$$\n",
    "В то же время\n",
    "$$||Wx_i - y_j||_2^2 = 2 - 2x_i^TW^Ty_j$$\n",
    "\n",
    "Другими словами, $k$ ближайщих соседей можно искать как $k$ элементов, для которых значение $x^TW^Ty$ будет максимальным."
   ]
  },
  {
   "cell_type": "markdown",
   "metadata": {},
   "source": [
    "Отображение $W$, как и в предыдущей модели, будем искать как ортогональное $W \\in \\mathcal{O}_d$.\n",
    "\n",
    "Задача оптимизации (_Relaxed CSLS loss_) в этом случае записывается как\n",
    "$$W^* = \\underset{W \\in \\mathcal{O}_d}{argmin}(\\frac{1}{n}\\sum_{i=1}^{n} -2x_i^TW_i^Ty_i + \\frac{1}{k}\\sum_{y_j\\in\\mathcal{N}_Y(Wx_i)}x_i^TW^Ty_j +  \\frac{1}{k}\\sum_{Wx_j\\in\\mathcal{N}_X(y_i)}x_j^TW^Ty_i)$$"
   ]
  },
  {
   "cell_type": "code",
   "execution_count": 187,
   "metadata": {},
   "outputs": [],
   "source": [
    "'''\n",
    "RCSLS-frmula\n",
    "Arguments:\n",
    "    * X - vectors of the source language\n",
    "    * Y - vectors of the target language\n",
    "    * W - mapping\n",
    "    * k - number of points in the neighborhood\n",
    "'''\n",
    "\n",
    "def RCSLS(X, Y, W, k = 10):\n",
    "    n = X.shape[0]\n",
    "    X_trans = np.matmul(X, W.T)\n",
    "    # first term\n",
    "    f1 = 2*np.sum(X_trans * Y)\n",
    "    df1 = 2 * np.matmul(Y.T, X)\n",
    "    #second term\n",
    "    f2, df2 = knn_term(np.matmul(X_trans, Y.T), X, Y, k)\n",
    "    #third term\n",
    "    f3, df3 = knn_term(np.matmul(np.matmul(X, W.T), Y.T).T, Y, X, k)\n",
    "    \n",
    "    f = -f1 + f2 + f3\n",
    "    df = -df1 + df2 + df3.T\n",
    "    \n",
    "    return f/n, df/n"
   ]
  },
  {
   "cell_type": "code",
   "execution_count": 188,
   "metadata": {},
   "outputs": [],
   "source": [
    "'''\n",
    "The second and third terms in the RCSLS-formula\n",
    "Arguments:\n",
    "    * term_val - x^T*W^T*y (k nearest neighbors can be searched as k elements for which this value will be maximum)\n",
    "    * space_pnt - source/target language\n",
    "    * space_neigh - target/source language\n",
    "    * k - number of points in the neighborhood\n",
    "'''\n",
    "\n",
    "def knn_term(term_val, space_pnt, space_neigh, k):\n",
    "    # find k nearest neighbors\n",
    "    neigh_pid = np.argpartition(term_val, -k, axis=1)[:, -k:]\n",
    "    shape = neigh_pid.shape\n",
    "    neigh = space_neigh[neigh_pid.flatten(), :]\n",
    "    neigh = neigh.reshape(shape[0], shape[1], space_neigh.shape[1])\n",
    "    \n",
    "    f = np.sum(term_val[np.arange(term_val.shape[0])[:, None], neigh_pid])\n",
    "    df = np.matmul(neigh.sum(1).T, space_pnt)\n",
    "    \n",
    "    return f/k, df/k"
   ]
  },
  {
   "cell_type": "markdown",
   "metadata": {},
   "source": [
    "Зададим некоторые параметры"
   ]
  },
  {
   "cell_type": "code",
   "execution_count": 189,
   "metadata": {},
   "outputs": [],
   "source": [
    "# number of subsample elements\n",
    "subsetsize = 1000\n",
    "# number of iterations\n",
    "niter = 25\n",
    "# number of nearest neighbors\n",
    "k = 20\n",
    "# learning rate\n",
    "lr = 1.0"
   ]
  },
  {
   "cell_type": "code",
   "execution_count": 190,
   "metadata": {},
   "outputs": [],
   "source": [
    "#singular value decompostion\n",
    "W3 = learn_transform(X_train, Y_train)\n",
    "\n",
    "X = X_train.copy()\n",
    "Y = Y_train.copy()\n",
    "\n",
    "f_old = 0\n",
    "W_old = []\n",
    "\n",
    "for it in range(0, niter + 1):\n",
    "    if lr < 1e-4:\n",
    "        break\n",
    "    ids = np.random.choice(X.shape[0], size=subsetsize, replace=False)\n",
    "    f, df = RCSLS(X[ids, :], Y[ids, :], W3, k)      \n",
    "    W3 -= lr * df \n",
    "    f_old, W_old = f, W3"
   ]
  },
  {
   "cell_type": "code",
   "execution_count": 39,
   "metadata": {},
   "outputs": [
    {
     "name": "stdout",
     "output_type": "stream",
     "text": [
      "0.6606217616580311\n",
      "0.8341968911917098\n",
      "0.8549222797927462\n"
     ]
    }
   ],
   "source": [
    "prescision_top1 = precision(uk_ru_test, np.matmul(X_test, W3), 1)\n",
    "prescision_top5 = precision(uk_ru_test, np.matmul(X_test, W3), 5)\n",
    "prescision_top10 = precision(uk_ru_test, np.matmul(X_test, W3), 10)"
   ]
  },
  {
   "cell_type": "markdown",
   "metadata": {
    "colab_type": "text",
    "id": "osfCMsRlU0vy"
   },
   "source": [
    "<a name = \"section-6\"></a>\n",
    "# Результаты"
   ]
  },
  {
   "cell_type": "markdown",
   "metadata": {},
   "source": [
    "Оценки, полученные для каждой модели, приведены в следующей таблице:\n",
    "\n",
    "|      | Модель №1 | Модель №2 | Модель №3 |\n",
    "|------|-----------|-----------|-----------|\n",
    "|top-1 | 0.6425    | 0.6554    | 0.6606    |\n",
    "|top-5 | 0.8083    | 0.8238    | 0.8342    |\n",
    "|top-10| 0.8497    | 0.8523    | 0.8549    |\n",
    "\n",
    "\n",
    "Как и ожидалось, модель №1 является худшей, а модель №3 показывает лучший результат."
   ]
  },
  {
   "cell_type": "markdown",
   "metadata": {},
   "source": [
    "<a name=\"section-7\"></a>\n",
    "# Задача классификации сообщений"
   ]
  },
  {
   "cell_type": "code",
   "execution_count": 319,
   "metadata": {},
   "outputs": [],
   "source": [
    "import warnings\n",
    "warnings.filterwarnings('ignore')"
   ]
  },
  {
   "cell_type": "markdown",
   "metadata": {},
   "source": [
    "<a name=\"subsection-71\"></a>\n",
    "## Данные"
   ]
  },
  {
   "cell_type": "markdown",
   "metadata": {},
   "source": [
    "Рассмотрим задачу классификации сообщений. В качестве [данных](https://www.kaggle.com/ihelon/ukrainian-descriptions-of-words/version/3?select=index.csv) используем описание 15 различных слов 8 различными участниками (на украинском языке)"
   ]
  },
  {
   "cell_type": "code",
   "execution_count": 315,
   "metadata": {},
   "outputs": [
    {
     "data": {
      "text/html": [
       "<div>\n",
       "<style scoped>\n",
       "    .dataframe tbody tr th:only-of-type {\n",
       "        vertical-align: middle;\n",
       "    }\n",
       "\n",
       "    .dataframe tbody tr th {\n",
       "        vertical-align: top;\n",
       "    }\n",
       "\n",
       "    .dataframe thead th {\n",
       "        text-align: right;\n",
       "    }\n",
       "</style>\n",
       "<table border=\"1\" class=\"dataframe\">\n",
       "  <thead>\n",
       "    <tr style=\"text-align: right;\">\n",
       "      <th></th>\n",
       "      <th>Unnamed: 0</th>\n",
       "      <th>user</th>\n",
       "      <th>word</th>\n",
       "      <th>description</th>\n",
       "    </tr>\n",
       "  </thead>\n",
       "  <tbody>\n",
       "    <tr>\n",
       "      <th>0</th>\n",
       "      <td>0</td>\n",
       "      <td>1</td>\n",
       "      <td>кінь</td>\n",
       "      <td>Парнокопитна тварина, яка була однією з перших...</td>\n",
       "    </tr>\n",
       "    <tr>\n",
       "      <th>1</th>\n",
       "      <td>1</td>\n",
       "      <td>1</td>\n",
       "      <td>зебра</td>\n",
       "      <td>африканська тварина, зовнішній вигляд якої наг...</td>\n",
       "    </tr>\n",
       "    <tr>\n",
       "      <th>2</th>\n",
       "      <td>2</td>\n",
       "      <td>1</td>\n",
       "      <td>корова</td>\n",
       "      <td>вид парнокопитної худоби, основне використання...</td>\n",
       "    </tr>\n",
       "    <tr>\n",
       "      <th>3</th>\n",
       "      <td>3</td>\n",
       "      <td>1</td>\n",
       "      <td>ведмідь</td>\n",
       "      <td>всеїдна велика тварина, яка має дуже сильний т...</td>\n",
       "    </tr>\n",
       "    <tr>\n",
       "      <th>4</th>\n",
       "      <td>4</td>\n",
       "      <td>1</td>\n",
       "      <td>олень</td>\n",
       "      <td>парнокопитна дика тварина, яка зазвичай прожив...</td>\n",
       "    </tr>\n",
       "    <tr>\n",
       "      <th>...</th>\n",
       "      <td>...</td>\n",
       "      <td>...</td>\n",
       "      <td>...</td>\n",
       "      <td>...</td>\n",
       "    </tr>\n",
       "    <tr>\n",
       "      <th>115</th>\n",
       "      <td>115</td>\n",
       "      <td>8</td>\n",
       "      <td>морквина</td>\n",
       "      <td>Городня рослина, овоч з їстівним солодкуватим ...</td>\n",
       "    </tr>\n",
       "    <tr>\n",
       "      <th>116</th>\n",
       "      <td>116</td>\n",
       "      <td>8</td>\n",
       "      <td>яблуко</td>\n",
       "      <td>соковитий плід, який вживається в їжу в свіжом...</td>\n",
       "    </tr>\n",
       "    <tr>\n",
       "      <th>117</th>\n",
       "      <td>117</td>\n",
       "      <td>8</td>\n",
       "      <td>банан</td>\n",
       "      <td>фрукт з шкіркою. Колір шкірки може бути: жовти...</td>\n",
       "    </tr>\n",
       "    <tr>\n",
       "      <th>118</th>\n",
       "      <td>118</td>\n",
       "      <td>8</td>\n",
       "      <td>картопля</td>\n",
       "      <td>Рід овоча, рослина з їстівними бульбами, багат...</td>\n",
       "    </tr>\n",
       "    <tr>\n",
       "      <th>119</th>\n",
       "      <td>119</td>\n",
       "      <td>8</td>\n",
       "      <td>лимон</td>\n",
       "      <td>ароматний цитрус з твердою шкіркою і кислої на...</td>\n",
       "    </tr>\n",
       "  </tbody>\n",
       "</table>\n",
       "<p>120 rows × 4 columns</p>\n",
       "</div>"
      ],
      "text/plain": [
       "     Unnamed: 0  user      word  \\\n",
       "0             0     1      кінь   \n",
       "1             1     1     зебра   \n",
       "2             2     1    корова   \n",
       "3             3     1   ведмідь   \n",
       "4             4     1     олень   \n",
       "..          ...   ...       ...   \n",
       "115         115     8  морквина   \n",
       "116         116     8    яблуко   \n",
       "117         117     8     банан   \n",
       "118         118     8  картопля   \n",
       "119         119     8     лимон   \n",
       "\n",
       "                                           description  \n",
       "0    Парнокопитна тварина, яка була однією з перших...  \n",
       "1    африканська тварина, зовнішній вигляд якої наг...  \n",
       "2    вид парнокопитної худоби, основне використання...  \n",
       "3    всеїдна велика тварина, яка має дуже сильний т...  \n",
       "4    парнокопитна дика тварина, яка зазвичай прожив...  \n",
       "..                                                 ...  \n",
       "115  Городня рослина, овоч з їстівним солодкуватим ...  \n",
       "116  соковитий плід, який вживається в їжу в свіжом...  \n",
       "117  фрукт з шкіркою. Колір шкірки може бути: жовти...  \n",
       "118  Рід овоча, рослина з їстівними бульбами, багат...  \n",
       "119  ароматний цитрус з твердою шкіркою і кислої на...  \n",
       "\n",
       "[120 rows x 4 columns]"
      ]
     },
     "execution_count": 315,
     "metadata": {},
     "output_type": "execute_result"
    }
   ],
   "source": [
    "df = pd.read_csv(\"index.csv\")\n",
    "df"
   ]
  },
  {
   "cell_type": "markdown",
   "metadata": {},
   "source": [
    "Добавим метки классов (цифры вместо слов)"
   ]
  },
  {
   "cell_type": "code",
   "execution_count": 316,
   "metadata": {},
   "outputs": [
    {
     "data": {
      "text/html": [
       "<div>\n",
       "<style scoped>\n",
       "    .dataframe tbody tr th:only-of-type {\n",
       "        vertical-align: middle;\n",
       "    }\n",
       "\n",
       "    .dataframe tbody tr th {\n",
       "        vertical-align: top;\n",
       "    }\n",
       "\n",
       "    .dataframe thead th {\n",
       "        text-align: right;\n",
       "    }\n",
       "</style>\n",
       "<table border=\"1\" class=\"dataframe\">\n",
       "  <thead>\n",
       "    <tr style=\"text-align: right;\">\n",
       "      <th></th>\n",
       "      <th>Unnamed: 0</th>\n",
       "      <th>user</th>\n",
       "      <th>word</th>\n",
       "      <th>description</th>\n",
       "      <th>class</th>\n",
       "    </tr>\n",
       "  </thead>\n",
       "  <tbody>\n",
       "    <tr>\n",
       "      <th>0</th>\n",
       "      <td>0</td>\n",
       "      <td>1</td>\n",
       "      <td>кінь</td>\n",
       "      <td>Парнокопитна тварина, яка була однією з перших...</td>\n",
       "      <td>13</td>\n",
       "    </tr>\n",
       "    <tr>\n",
       "      <th>1</th>\n",
       "      <td>1</td>\n",
       "      <td>1</td>\n",
       "      <td>зебра</td>\n",
       "      <td>африканська тварина, зовнішній вигляд якої наг...</td>\n",
       "      <td>2</td>\n",
       "    </tr>\n",
       "    <tr>\n",
       "      <th>2</th>\n",
       "      <td>2</td>\n",
       "      <td>1</td>\n",
       "      <td>корова</td>\n",
       "      <td>вид парнокопитної худоби, основне використання...</td>\n",
       "      <td>0</td>\n",
       "    </tr>\n",
       "    <tr>\n",
       "      <th>3</th>\n",
       "      <td>3</td>\n",
       "      <td>1</td>\n",
       "      <td>ведмідь</td>\n",
       "      <td>всеїдна велика тварина, яка має дуже сильний т...</td>\n",
       "      <td>3</td>\n",
       "    </tr>\n",
       "    <tr>\n",
       "      <th>4</th>\n",
       "      <td>4</td>\n",
       "      <td>1</td>\n",
       "      <td>олень</td>\n",
       "      <td>парнокопитна дика тварина, яка зазвичай прожив...</td>\n",
       "      <td>5</td>\n",
       "    </tr>\n",
       "    <tr>\n",
       "      <th>...</th>\n",
       "      <td>...</td>\n",
       "      <td>...</td>\n",
       "      <td>...</td>\n",
       "      <td>...</td>\n",
       "      <td>...</td>\n",
       "    </tr>\n",
       "    <tr>\n",
       "      <th>115</th>\n",
       "      <td>115</td>\n",
       "      <td>8</td>\n",
       "      <td>морквина</td>\n",
       "      <td>Городня рослина, овоч з їстівним солодкуватим ...</td>\n",
       "      <td>10</td>\n",
       "    </tr>\n",
       "    <tr>\n",
       "      <th>116</th>\n",
       "      <td>116</td>\n",
       "      <td>8</td>\n",
       "      <td>яблуко</td>\n",
       "      <td>соковитий плід, який вживається в їжу в свіжом...</td>\n",
       "      <td>1</td>\n",
       "    </tr>\n",
       "    <tr>\n",
       "      <th>117</th>\n",
       "      <td>117</td>\n",
       "      <td>8</td>\n",
       "      <td>банан</td>\n",
       "      <td>фрукт з шкіркою. Колір шкірки може бути: жовти...</td>\n",
       "      <td>6</td>\n",
       "    </tr>\n",
       "    <tr>\n",
       "      <th>118</th>\n",
       "      <td>118</td>\n",
       "      <td>8</td>\n",
       "      <td>картопля</td>\n",
       "      <td>Рід овоча, рослина з їстівними бульбами, багат...</td>\n",
       "      <td>7</td>\n",
       "    </tr>\n",
       "    <tr>\n",
       "      <th>119</th>\n",
       "      <td>119</td>\n",
       "      <td>8</td>\n",
       "      <td>лимон</td>\n",
       "      <td>ароматний цитрус з твердою шкіркою і кислої на...</td>\n",
       "      <td>4</td>\n",
       "    </tr>\n",
       "  </tbody>\n",
       "</table>\n",
       "<p>120 rows × 5 columns</p>\n",
       "</div>"
      ],
      "text/plain": [
       "     Unnamed: 0  user      word  \\\n",
       "0             0     1      кінь   \n",
       "1             1     1     зебра   \n",
       "2             2     1    корова   \n",
       "3             3     1   ведмідь   \n",
       "4             4     1     олень   \n",
       "..          ...   ...       ...   \n",
       "115         115     8  морквина   \n",
       "116         116     8    яблуко   \n",
       "117         117     8     банан   \n",
       "118         118     8  картопля   \n",
       "119         119     8     лимон   \n",
       "\n",
       "                                           description  class  \n",
       "0    Парнокопитна тварина, яка була однією з перших...     13  \n",
       "1    африканська тварина, зовнішній вигляд якої наг...      2  \n",
       "2    вид парнокопитної худоби, основне використання...      0  \n",
       "3    всеїдна велика тварина, яка має дуже сильний т...      3  \n",
       "4    парнокопитна дика тварина, яка зазвичай прожив...      5  \n",
       "..                                                 ...    ...  \n",
       "115  Городня рослина, овоч з їстівним солодкуватим ...     10  \n",
       "116  соковитий плід, який вживається в їжу в свіжом...      1  \n",
       "117  фрукт з шкіркою. Колір шкірки може бути: жовти...      6  \n",
       "118  Рід овоча, рослина з їстівними бульбами, багат...      7  \n",
       "119  ароматний цитрус з твердою шкіркою і кислої на...      4  \n",
       "\n",
       "[120 rows x 5 columns]"
      ]
     },
     "execution_count": 316,
     "metadata": {},
     "output_type": "execute_result"
    }
   ],
   "source": [
    "words = []\n",
    "word_ids = []\n",
    "i = 0\n",
    "for word in set(df[\"word\"]):\n",
    "    words.append(word)\n",
    "    word_ids.append(i)\n",
    "    i = i+1\n",
    "    \n",
    "word_codes = {words[i]: word_ids[i] for i in range(len(words))}\n",
    "\n",
    "class_id = []\n",
    "for word in df[\"word\"]:\n",
    "    class_id.append(word_codes[word])\n",
    "    \n",
    "df['class'] = class_id\n",
    "\n",
    "df"
   ]
  },
  {
   "cell_type": "markdown",
   "metadata": {},
   "source": [
    "В качестве обучающей выборки выберем ответы случайных 5 участников опроса, а в качестве тестовой - ответы оставшихся 3 участников"
   ]
  },
  {
   "cell_type": "code",
   "execution_count": 380,
   "metadata": {},
   "outputs": [
    {
     "name": "stdout",
     "output_type": "stream",
     "text": [
      "Test dataset from users:  [2, 6, 4]\n"
     ]
    }
   ],
   "source": [
    "import random\n",
    "\n",
    "tus = random.sample(range(1,9), 3)\n",
    "print(\"Test dataset from users: \", tus)\n",
    "\n",
    "df_train = df[(df['user'] != tus[0]) & (df['user'] != tus[1]) & (df['user'] != tus[2])]\n",
    "df_test = df[(df['user'] == tus[0]) | (df['user'] == tus[1]) | (df['user'] == tus[2])]"
   ]
  },
  {
   "cell_type": "markdown",
   "metadata": {},
   "source": [
    "<a name=\"subsection-72\"></a>\n",
    "## Модель классификации"
   ]
  },
  {
   "cell_type": "markdown",
   "metadata": {},
   "source": [
    "Для решения задачи классификации, представим тексты в виде разреженной матрицы матрицы токенов, находящихся в тексте, при помощи метода _CountVectorizer_ библиотеки _sklearn_. Для классификации полученных преставлений используем (многоклассовый) наивный баясовский классификатор."
   ]
  },
  {
   "cell_type": "code",
   "execution_count": 368,
   "metadata": {},
   "outputs": [],
   "source": [
    "from sklearn.feature_extraction.text import CountVectorizer \n",
    "\n",
    "#from sklearn.linear_model import LogisticRegression\n",
    "#from sklearn.tree import DecisionTreeClassifier\n",
    "from sklearn.naive_bayes import MultinomialNB\n",
    "\n",
    "from sklearn.metrics import balanced_accuracy_score"
   ]
  },
  {
   "cell_type": "code",
   "execution_count": 376,
   "metadata": {},
   "outputs": [],
   "source": [
    "# for the mathematical description of sentences\n",
    "# ignore words that appear in texts less than 2 times\n",
    "# ignore words with a frequency higher than 0.8\n",
    "vectorizer =  CountVectorizer(\n",
    "              lowercase=True, ngram_range=(2,3), analyzer='char',\n",
    "              preprocessor=preprocessor, min_df=2, max_df=0.8)\n",
    "\n",
    "# for classification\n",
    "#classificator = LogisticRegression(solver = 'liblinear')\n",
    "#classificator = DecisionTreeClassifier(random_state = 42)\n",
    "classificator = MultinomialNB()"
   ]
  },
  {
   "cell_type": "code",
   "execution_count": 381,
   "metadata": {},
   "outputs": [
    {
     "data": {
      "text/plain": [
       "1.0"
      ]
     },
     "execution_count": 381,
     "metadata": {},
     "output_type": "execute_result"
    }
   ],
   "source": [
    "# Train\n",
    "\n",
    "text_train = df_train['description']\n",
    "text_train_vect = vectorizer.fit_transform(text_train)\n",
    "\n",
    "y_train = df_train['class']\n",
    "\n",
    "classificator.fit(text_train_vect, y_train)\n",
    "y_train_pred = classificator.predict(text_train_vect)\n",
    "\n",
    "balanced_accuracy_score(y_train_pred, y_train)"
   ]
  },
  {
   "cell_type": "code",
   "execution_count": 382,
   "metadata": {},
   "outputs": [
    {
     "data": {
      "text/plain": [
       "0.851111111111111"
      ]
     },
     "execution_count": 382,
     "metadata": {},
     "output_type": "execute_result"
    }
   ],
   "source": [
    "# Test\n",
    "\n",
    "text_test = df_test['description']\n",
    "text_test_vect = vectorizer.transform(text_test)\n",
    "\n",
    "y_test = df_test['class']\n",
    "\n",
    "y_test_pred = classificator.predict(text_test_vect)\n",
    "\n",
    "balanced_accuracy_score(y_test_pred, y_test)"
   ]
  },
  {
   "cell_type": "markdown",
   "metadata": {},
   "source": [
    "<a name=\"subsection-73\"></a>\n",
    "## Переводчик"
   ]
  },
  {
   "cell_type": "markdown",
   "metadata": {},
   "source": [
    "\"Пословный\" переводчик предложений: каждое слово заменяется на его \"перевод\"\n",
    "\n",
    "Аргументы функции:\n",
    "* sentence - предложение на украинском языке\n",
    "* translator - перефодчик (матрица W для моделей 2 и 3 или обученная линейная регрессия для модели 1)\n",
    "* translate_w_matrix - маркер, значение _True_ для моделей 2,3 и _False_ для модели 1"
   ]
  },
  {
   "cell_type": "code",
   "execution_count": 235,
   "metadata": {},
   "outputs": [],
   "source": [
    "import string\n",
    "from copy import deepcopy\n",
    "\n",
    "\n",
    "def translate(sentence, translator, translate_w_matrix = True):\n",
    "    ru_sentence = deepcopy(sentence)\n",
    "    no_punct = ''.join(c for c in sentence if c not in string.punctuation)\n",
    "    words = no_punct.split()\n",
    "    for i, word in enumerate(words):\n",
    "        if word.lower() in uk_emb.vocab:\n",
    "            is_capital = word[0].isupper()\n",
    "            if(translate_w_matrix):\n",
    "                translation = ru_emb.most_similar([np.matmul(uk_emb[word.lower()], translator)])[0][0]\n",
    "            else:\n",
    "                translation = ru_emb.most_similar(translator.predict(uk_emb[word.lower()].reshape(1, -1)))[0][0]\n",
    "            if is_capital:\n",
    "                translation = translation[0].upper() + translation[1:]\n",
    "            ru_sentence = ru_sentence.replace(word, translation)\n",
    "    return ru_sentence"
   ]
  },
  {
   "cell_type": "code",
   "execution_count": 236,
   "metadata": {},
   "outputs": [
    {
     "name": "stdout",
     "output_type": "stream",
     "text": [
      "домашня птиця, яка майже не літає, кудахкає, використовується людьми в основному для їжі\n",
      "домашняя птица, она почти не летает, кудахкає, используется людьми во основоному для пищи\n",
      "домашняя птица, она почти не летает, кудахкає, используется людьми во основоному для пищи\n",
      "домашняя птица, она почти не летает, кудахкає, используется людьми во основоному для еды\n"
     ]
    }
   ],
   "source": [
    "sentence = df_train['description'][36]\n",
    "print(sentence)\n",
    "print(translate(sentence, mapping, translate_w_matrix = False))\n",
    "print(translate(sentence, W2))\n",
    "print(translate(sentence, W3))"
   ]
  },
  {
   "cell_type": "markdown",
   "metadata": {},
   "source": [
    "<a name=\"subsection-74\"></a>\n",
    "## Перевод + классификация"
   ]
  },
  {
   "cell_type": "code",
   "execution_count": 260,
   "metadata": {},
   "outputs": [],
   "source": [
    "def precision_class(y_pred, y_true):\n",
    "    assert len(y_pred) == len(y_true)\n",
    "    n = len(y_pred)\n",
    "    d = y_pred - y_true\n",
    "    return len(np.argwhere(d==0))/n"
   ]
  },
  {
   "cell_type": "code",
   "execution_count": 246,
   "metadata": {},
   "outputs": [],
   "source": [
    "def translate_col(model, df_col):\n",
    "    assert model in [1,2,3]\n",
    "    translation = []\n",
    "    if model == 1:\n",
    "        for sentence in df_col:\n",
    "            translation.append(translate(sentence, mapping, translate_w_matrix = False))\n",
    "    elif model == 2:\n",
    "        for sentence in df_col:\n",
    "            translation.append(translate(sentence, W2))\n",
    "    elif model == 3:\n",
    "        for sentence in df_col:\n",
    "            translation.append(translate(sentence, W3))\n",
    "    return  np.array(translation)     "
   ]
  },
  {
   "cell_type": "code",
   "execution_count": 383,
   "metadata": {},
   "outputs": [],
   "source": [
    "mod1_transl = translate_col(1, df['description'])\n",
    "mod2_transl = translate_col(2, df['description'])\n",
    "mod3_transl = translate_col(3, df['description'])\n",
    "\n",
    "df['model1'] = mod1_transl\n",
    "df['model2'] = mod2_transl\n",
    "df['model3'] = mod3_transl\n",
    "\n",
    "df_train = df[(df['user'] != tus[0]) & (df['user'] != tus[1]) & (df['user'] != tus[2])]\n",
    "df_test = df[(df['user'] == tus[0]) | (df['user'] == tus[1]) | (df['user'] == tus[2])]"
   ]
  },
  {
   "cell_type": "code",
   "execution_count": 386,
   "metadata": {},
   "outputs": [
    {
     "data": {
      "text/html": [
       "<div>\n",
       "<style scoped>\n",
       "    .dataframe tbody tr th:only-of-type {\n",
       "        vertical-align: middle;\n",
       "    }\n",
       "\n",
       "    .dataframe tbody tr th {\n",
       "        vertical-align: top;\n",
       "    }\n",
       "\n",
       "    .dataframe thead th {\n",
       "        text-align: right;\n",
       "    }\n",
       "</style>\n",
       "<table border=\"1\" class=\"dataframe\">\n",
       "  <thead>\n",
       "    <tr style=\"text-align: right;\">\n",
       "      <th></th>\n",
       "      <th>Unnamed: 0</th>\n",
       "      <th>user</th>\n",
       "      <th>word</th>\n",
       "      <th>description</th>\n",
       "      <th>class</th>\n",
       "      <th>model1</th>\n",
       "      <th>model2</th>\n",
       "      <th>model3</th>\n",
       "    </tr>\n",
       "  </thead>\n",
       "  <tbody>\n",
       "    <tr>\n",
       "      <th>15</th>\n",
       "      <td>15</td>\n",
       "      <td>2</td>\n",
       "      <td>кінь</td>\n",
       "      <td>копитна тварина, на якій людина здатна швидко ...</td>\n",
       "      <td>13</td>\n",
       "      <td>копитпо животное, по которой людипо здатпо быс...</td>\n",
       "      <td>копитпо животное, по которой людипо здатпо быс...</td>\n",
       "      <td>копитпо животное, по которой людипо здатпо быс...</td>\n",
       "    </tr>\n",
       "    <tr>\n",
       "      <th>16</th>\n",
       "      <td>16</td>\n",
       "      <td>2</td>\n",
       "      <td>зебра</td>\n",
       "      <td>тварина, яка схожа на коня, має забарвлення в ...</td>\n",
       "      <td>2</td>\n",
       "      <td>живоотное, опо похожа по конь, иметь цвоет во ...</td>\n",
       "      <td>живоотное, опо похожа по коня, имеет окраску в...</td>\n",
       "      <td>живоотное, опо похожа по коня, имеет окраску в...</td>\n",
       "    </tr>\n",
       "    <tr>\n",
       "      <th>17</th>\n",
       "      <td>17</td>\n",
       "      <td>2</td>\n",
       "      <td>корова</td>\n",
       "      <td>копитна тварина з вим'ям, мичить і дає молоко</td>\n",
       "      <td>0</td>\n",
       "      <td>копитна животное со вим'ям, мичить и дает молоко</td>\n",
       "      <td>копитна животное со вим'ям, мичить и дает молоко</td>\n",
       "      <td>копитна животное со вим'ям, мичить и дает молоко</td>\n",
       "    </tr>\n",
       "    <tr>\n",
       "      <th>18</th>\n",
       "      <td>18</td>\n",
       "      <td>2</td>\n",
       "      <td>ведмідь</td>\n",
       "      <td>лісова всеїдна тварина, яка полюбляє мед, може...</td>\n",
       "      <td>3</td>\n",
       "      <td>лесная зверек животное, она любит мёд, может л...</td>\n",
       "      <td>лесная стайная животное, она любит мёд, может ...</td>\n",
       "      <td>лесная стайная животное, она любит мёд, может ...</td>\n",
       "    </tr>\n",
       "    <tr>\n",
       "      <th>19</th>\n",
       "      <td>19</td>\n",
       "      <td>2</td>\n",
       "      <td>олень</td>\n",
       "      <td>лісова тварина з рогами</td>\n",
       "      <td>5</td>\n",
       "      <td>лесная животное со рогами</td>\n",
       "      <td>лесная животное со рогами</td>\n",
       "      <td>лесная животное со рогами</td>\n",
       "    </tr>\n",
       "  </tbody>\n",
       "</table>\n",
       "</div>"
      ],
      "text/plain": [
       "    Unnamed: 0  user     word  \\\n",
       "15          15     2     кінь   \n",
       "16          16     2    зебра   \n",
       "17          17     2   корова   \n",
       "18          18     2  ведмідь   \n",
       "19          19     2    олень   \n",
       "\n",
       "                                          description  class  \\\n",
       "15  копитна тварина, на якій людина здатна швидко ...     13   \n",
       "16  тварина, яка схожа на коня, має забарвлення в ...      2   \n",
       "17      копитна тварина з вим'ям, мичить і дає молоко      0   \n",
       "18  лісова всеїдна тварина, яка полюбляє мед, може...      3   \n",
       "19                            лісова тварина з рогами      5   \n",
       "\n",
       "                                               model1  \\\n",
       "15  копитпо животное, по которой людипо здатпо быс...   \n",
       "16  живоотное, опо похожа по конь, иметь цвоет во ...   \n",
       "17   копитна животное со вим'ям, мичить и дает молоко   \n",
       "18  лесная зверек животное, она любит мёд, может л...   \n",
       "19                          лесная животное со рогами   \n",
       "\n",
       "                                               model2  \\\n",
       "15  копитпо животное, по которой людипо здатпо быс...   \n",
       "16  живоотное, опо похожа по коня, имеет окраску в...   \n",
       "17   копитна животное со вим'ям, мичить и дает молоко   \n",
       "18  лесная стайная животное, она любит мёд, может ...   \n",
       "19                          лесная животное со рогами   \n",
       "\n",
       "                                               model3  \n",
       "15  копитпо животное, по которой людипо здатпо быс...  \n",
       "16  живоотное, опо похожа по коня, имеет окраску в...  \n",
       "17   копитна животное со вим'ям, мичить и дает молоко  \n",
       "18  лесная стайная животное, она любит мёд, может ...  \n",
       "19                          лесная животное со рогами  "
      ]
     },
     "execution_count": 386,
     "metadata": {},
     "output_type": "execute_result"
    }
   ],
   "source": [
    "df_test[:5]"
   ]
  },
  {
   "cell_type": "code",
   "execution_count": 388,
   "metadata": {},
   "outputs": [
    {
     "name": "stdout",
     "output_type": "stream",
     "text": [
      "model № model1 : \n",
      "\tTrain score: 1.0 \n",
      "\tTest  score: 0.8285714285714285\n",
      "model № model2 : \n",
      "\tTrain score: 1.0 \n",
      "\tTest  score: 0.8844444444444444\n",
      "model № model3 : \n",
      "\tTrain score: 1.0 \n",
      "\tTest  score: 0.8744444444444444\n"
     ]
    }
   ],
   "source": [
    "y_train = np.array(df_train['class'])\n",
    "y_test  = np.array(df_test['class'])\n",
    "\n",
    "for model in [\"model1\",\"model2\",\"model3\"]:\n",
    "    # Train\n",
    "    text_train_trans = df_train[model]\n",
    "    text_train_vect = vectorizer.fit_transform(text_train_trans)\n",
    "    \n",
    "    # Test\n",
    "    text_test_trans = df_test[model]\n",
    "    text_test_vect = vectorizer.transform(text_test)\n",
    "\n",
    "    classificator.fit(text_train_vect, y_train)\n",
    "    y_train_pred = classificator.predict(text_train_vect)\n",
    "    y_test_pred = classificator.predict(text_test_vect)\n",
    "\n",
    "    train_score = balanced_accuracy_score(y_train_pred, y_train)\n",
    "    test_score = balanced_accuracy_score(y_test_pred, y_test)\n",
    "    #train_score = precision_class(y_train_pred, y_train)\n",
    "    #test_score = precision_class(y_test_pred, y_test)\n",
    "    print(\"model № {} : \\n\\tTrain score: {} \\n\\tTest  score: {}\".format(model, train_score, test_score))"
   ]
  },
  {
   "cell_type": "markdown",
   "metadata": {},
   "source": [
    "Для данного разбиения модель №3 показала результат лучше, чем модель №2. Однако, оба они сильно уступают первой модели. Попробуем снизить зависимость результата от разбиения выборки. Для этого выполним обучение и прогноз 50 раз и в качестве ответа представим среднее значение полученных результатов."
   ]
  },
  {
   "cell_type": "code",
   "execution_count": 393,
   "metadata": {},
   "outputs": [
    {
     "data": {
      "text/html": [
       "<div>\n",
       "<style scoped>\n",
       "    .dataframe tbody tr th:only-of-type {\n",
       "        vertical-align: middle;\n",
       "    }\n",
       "\n",
       "    .dataframe tbody tr th {\n",
       "        vertical-align: top;\n",
       "    }\n",
       "\n",
       "    .dataframe thead th {\n",
       "        text-align: right;\n",
       "    }\n",
       "</style>\n",
       "<table border=\"1\" class=\"dataframe\">\n",
       "  <thead>\n",
       "    <tr style=\"text-align: right;\">\n",
       "      <th></th>\n",
       "      <th>Unnamed: 0</th>\n",
       "      <th>user</th>\n",
       "      <th>word</th>\n",
       "      <th>description</th>\n",
       "      <th>class</th>\n",
       "      <th>model1</th>\n",
       "      <th>model2</th>\n",
       "      <th>model3</th>\n",
       "    </tr>\n",
       "  </thead>\n",
       "  <tbody>\n",
       "    <tr>\n",
       "      <th>0</th>\n",
       "      <td>0</td>\n",
       "      <td>1</td>\n",
       "      <td>кінь</td>\n",
       "      <td>Парнокопитна тварина, яка була однією з перших...</td>\n",
       "      <td>13</td>\n",
       "      <td>Парнокопитна животное, она была одним со первы...</td>\n",
       "      <td>Парнокопитна животное, она была одним со первы...</td>\n",
       "      <td>Парнокопитна животное, она была одним со первы...</td>\n",
       "    </tr>\n",
       "    <tr>\n",
       "      <th>1</th>\n",
       "      <td>1</td>\n",
       "      <td>1</td>\n",
       "      <td>зебра</td>\n",
       "      <td>африканська тварина, зовнішній вигляд якої наг...</td>\n",
       "      <td>2</td>\n",
       "      <td>африканская животное, внешний вид которой напо...</td>\n",
       "      <td>африканская животное, внешний вид которой напо...</td>\n",
       "      <td>африканская животное, внешний вид которой напо...</td>\n",
       "    </tr>\n",
       "    <tr>\n",
       "      <th>2</th>\n",
       "      <td>2</td>\n",
       "      <td>1</td>\n",
       "      <td>корова</td>\n",
       "      <td>вид парнокопитної худоби, основне використання...</td>\n",
       "      <td>0</td>\n",
       "      <td>вид парнокопитної скот, основное использование...</td>\n",
       "      <td>вид парнокопитної скота, основное использовани...</td>\n",
       "      <td>вид парнокопитної скота, основное использовани...</td>\n",
       "    </tr>\n",
       "    <tr>\n",
       "      <th>3</th>\n",
       "      <td>3</td>\n",
       "      <td>1</td>\n",
       "      <td>ведмідь</td>\n",
       "      <td>всеїдна велика тварина, яка має дуже сильний т...</td>\n",
       "      <td>3</td>\n",
       "      <td>зверек большая животное, она иметь очень сильн...</td>\n",
       "      <td>стайная большая животное, она имеет очень силь...</td>\n",
       "      <td>стайная большая животное, она имеет очень силь...</td>\n",
       "    </tr>\n",
       "    <tr>\n",
       "      <th>4</th>\n",
       "      <td>4</td>\n",
       "      <td>1</td>\n",
       "      <td>олень</td>\n",
       "      <td>парнокопитна дика тварина, яка зазвичай прожив...</td>\n",
       "      <td>5</td>\n",
       "      <td>парнокопитна дикий животное, она обычно прожив...</td>\n",
       "      <td>парнокопитна дикая животное, она обычно прожив...</td>\n",
       "      <td>парнокопитна дикая животное, она обычно прожив...</td>\n",
       "    </tr>\n",
       "  </tbody>\n",
       "</table>\n",
       "</div>"
      ],
      "text/plain": [
       "   Unnamed: 0  user     word  \\\n",
       "0           0     1     кінь   \n",
       "1           1     1    зебра   \n",
       "2           2     1   корова   \n",
       "3           3     1  ведмідь   \n",
       "4           4     1    олень   \n",
       "\n",
       "                                         description  class  \\\n",
       "0  Парнокопитна тварина, яка була однією з перших...     13   \n",
       "1  африканська тварина, зовнішній вигляд якої наг...      2   \n",
       "2  вид парнокопитної худоби, основне використання...      0   \n",
       "3  всеїдна велика тварина, яка має дуже сильний т...      3   \n",
       "4  парнокопитна дика тварина, яка зазвичай прожив...      5   \n",
       "\n",
       "                                              model1  \\\n",
       "0  Парнокопитна животное, она была одним со первы...   \n",
       "1  африканская животное, внешний вид которой напо...   \n",
       "2  вид парнокопитної скот, основное использование...   \n",
       "3  зверек большая животное, она иметь очень сильн...   \n",
       "4  парнокопитна дикий животное, она обычно прожив...   \n",
       "\n",
       "                                              model2  \\\n",
       "0  Парнокопитна животное, она была одним со первы...   \n",
       "1  африканская животное, внешний вид которой напо...   \n",
       "2  вид парнокопитної скота, основное использовани...   \n",
       "3  стайная большая животное, она имеет очень силь...   \n",
       "4  парнокопитна дикая животное, она обычно прожив...   \n",
       "\n",
       "                                              model3  \n",
       "0  Парнокопитна животное, она была одним со первы...  \n",
       "1  африканская животное, внешний вид которой напо...  \n",
       "2  вид парнокопитної скота, основное использовани...  \n",
       "3  стайная большая животное, она имеет очень силь...  \n",
       "4  парнокопитна дикая животное, она обычно прожив...  "
      ]
     },
     "execution_count": 393,
     "metadata": {},
     "output_type": "execute_result"
    }
   ],
   "source": [
    "df[:5]"
   ]
  },
  {
   "cell_type": "code",
   "execution_count": 407,
   "metadata": {},
   "outputs": [
    {
     "name": "stdout",
     "output_type": "stream",
     "text": [
      "model № 1 : \n",
      "\tTrain score: 1.0 \n",
      "\tTest  score: 0.9055555555555554\n",
      "model № 2 : \n",
      "\tTrain score: 1.0 \n",
      "\tTest  score: 0.9166666666666666\n",
      "model № 3 : \n",
      "\tTrain score: 1.0 \n",
      "\tTest  score: 0.94\n"
     ]
    }
   ],
   "source": [
    "for i in range(50):\n",
    "    tus = random.sample(range(1,9), 3)\n",
    "\n",
    "    df_train = df[(df['user'] != tus[0]) & (df['user'] != tus[1]) & (df['user'] != tus[2])]\n",
    "    df_test = df[(df['user'] == tus[0]) | (df['user'] == tus[1]) | (df['user'] == tus[2])]\n",
    "    \n",
    "    y_train = np.array(df_train['class'])\n",
    "    y_test  = np.array(df_test['class'])\n",
    "    \n",
    "    m1_res_train = []\n",
    "    m2_res_train = []\n",
    "    m3_res_train = []\n",
    "    m1_res_test = []\n",
    "    m2_res_test = []\n",
    "    m3_res_test = []\n",
    "    \n",
    "    for model in [\"model1\",\"model2\",\"model3\"]:\n",
    "        # Train\n",
    "        text_train_trans = df_train[model]\n",
    "        text_train_vect = vectorizer.fit_transform(text_train_trans)\n",
    "    \n",
    "        # Test\n",
    "        text_test_trans = df_test[model]\n",
    "        text_test_vect = vectorizer.transform(text_test)\n",
    "\n",
    "        classificator.fit(text_train_vect, y_train)\n",
    "        y_train_pred = classificator.predict(text_train_vect)\n",
    "        y_test_pred = classificator.predict(text_test_vect)\n",
    "\n",
    "        train_score = balanced_accuracy_score(y_train_pred, y_train)\n",
    "        test_score = balanced_accuracy_score(y_test_pred, y_test)\n",
    "        \n",
    "        if model == \"model1\":\n",
    "            m1_res_train.append(train_score)\n",
    "            m1_res_test.append(test_score)\n",
    "        if model == \"model2\":\n",
    "            m2_res_train.append(train_score)\n",
    "            m2_res_test.append(test_score)\n",
    "        if model == \"model3\":\n",
    "            m3_res_train.append(train_score)\n",
    "            m3_res_test.append(test_score)\n",
    "            \n",
    "\n",
    "print(\"model № 1 : \\n\\tTrain score: {} \\n\\tTest  score: {}\".format(np.mean(m1_res_train), np.mean(m1_res_test)))\n",
    "print(\"model № 2 : \\n\\tTrain score: {} \\n\\tTest  score: {}\".format(np.mean(m2_res_train), np.mean(m2_res_test)))\n",
    "print(\"model № 3 : \\n\\tTrain score: {} \\n\\tTest  score: {}\".format(np.mean(m3_res_train), np.mean(m3_res_test)))"
   ]
  },
  {
   "cell_type": "markdown",
   "metadata": {},
   "source": [
    "Для средних значений лидирует модель с номером 3!"
   ]
  }
 ],
 "metadata": {
  "accelerator": "GPU",
  "colab": {
   "collapsed_sections": [],
   "name": "homework.ipynb",
   "provenance": [],
   "toc_visible": true
  },
  "kernelspec": {
   "display_name": "Python 3",
   "language": "python",
   "name": "python3"
  },
  "language_info": {
   "codemirror_mode": {
    "name": "ipython",
    "version": 3
   },
   "file_extension": ".py",
   "mimetype": "text/x-python",
   "name": "python",
   "nbconvert_exporter": "python",
   "pygments_lexer": "ipython3",
   "version": "3.7.6"
  }
 },
 "nbformat": 4,
 "nbformat_minor": 4
}
